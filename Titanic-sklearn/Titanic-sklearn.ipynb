{
 "cells": [
  {
   "cell_type": "markdown",
   "metadata": {},
   "source": [
    "# Titanic dataset solution with Pandas, Numpy, and SK-Learn:\n",
    "\n",
    "Leave notes on starting this notebook in a conda environment with correct dependencies.\n",
    "\n",
    "Run this command to download the data:"
   ]
  },
  {
   "cell_type": "code",
   "execution_count": 1,
   "metadata": {},
   "outputs": [
    {
     "name": "stdout",
     "output_type": "stream",
     "text": [
      "Downloading titanic.zip to /home/asusevski/Documents/Projects/Kaggle/Titanic/Titanic-sklearn\r\n",
      "\r",
      "  0%|                                               | 0.00/34.1k [00:00<?, ?B/s]\r\n",
      "\r",
      "100%|██████████████████████████████████████| 34.1k/34.1k [00:00<00:00, 1.33MB/s]\r\n"
     ]
    }
   ],
   "source": [
    "!kaggle competitions download -c titanic"
   ]
  },
  {
   "cell_type": "code",
   "execution_count": 4,
   "metadata": {},
   "outputs": [],
   "source": [
    "import numpy as np\n",
    "import pandas as pd\n",
    "from sklearn.linear_model import LogisticRegression\n",
    "from sklearn.ensemble import RandomForestClassifier\n",
    "import zipfile"
   ]
  },
  {
   "cell_type": "markdown",
   "metadata": {},
   "source": [
    "The data is now in a zip file in the same directory as our current working directory.\n",
    "\n",
    "Reading in the data with pandas:"
   ]
  },
  {
   "cell_type": "code",
   "execution_count": 6,
   "metadata": {},
   "outputs": [
    {
     "name": "stdout",
     "output_type": "stream",
     "text": [
      "Titanic-sklearn.ipynb  titanic.zip\r\n"
     ]
    }
   ],
   "source": [
    "!ls"
   ]
  },
  {
   "cell_type": "code",
   "execution_count": 8,
   "metadata": {},
   "outputs": [],
   "source": [
    "zip_file = zipfile.ZipFile('./titanic.zip')\n",
    "\n",
    "dfs = {\n",
    "text_file.filename: pd.read_csv(zip_file.open(text_file.filename))\n",
    "for text_file in zip_file.infolist()\n",
    "    if text_file.filename.endswith('.csv')\n",
    "}\n",
    "\n",
    "# We know the three dataframes are named as follows:\n",
    "df_gender = dfs['gender_submission.csv']\n",
    "df_test = dfs['test.csv']\n",
    "df_train = dfs['train.csv']"
   ]
  }
 ],
 "metadata": {
  "kernelspec": {
   "display_name": "Python 3 (ipykernel)",
   "language": "python",
   "name": "python3"
  },
  "language_info": {
   "codemirror_mode": {
    "name": "ipython",
    "version": 3
   },
   "file_extension": ".py",
   "mimetype": "text/x-python",
   "name": "python",
   "nbconvert_exporter": "python",
   "pygments_lexer": "ipython3",
   "version": "3.9.12"
  }
 },
 "nbformat": 4,
 "nbformat_minor": 4
}
